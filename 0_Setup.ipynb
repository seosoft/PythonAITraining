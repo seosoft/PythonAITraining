{
 "cells": [
  {
   "cell_type": "markdown",
   "id": "7791593e-81a5-4258-b185-9e22d208c6b7",
   "metadata": {},
   "source": [
    "# ハンズオンの環境構築"
   ]
  },
  {
   "cell_type": "markdown",
   "id": "0ca879d0-5352-42ff-a0c4-b9b48e79bcb3",
   "metadata": {
    "tags": []
   },
   "source": [
    "## 1. 環境構築を実行するカーネルを確認\n",
    "\n",
    "**標準の Python 3 カーネル** でこの Notebook を開きます。"
   ]
  },
  {
   "cell_type": "code",
   "execution_count": 1,
   "id": "8d4bfd06-c167-4e90-929e-aa460eeba8cd",
   "metadata": {},
   "outputs": [],
   "source": [
    "!python -m venv .venv"
   ]
  },
  {
   "cell_type": "markdown",
   "id": "77c48de0-0603-459b-a6e9-228495162a23",
   "metadata": {},
   "source": [
    "## 2. Python の仮想環境を作成\n",
    "\n",
    "venv の仮想環境を作成します。"
   ]
  },
  {
   "cell_type": "markdown",
   "id": "7a5b7def-4b57-4887-82a4-bdf7e377e5b8",
   "metadata": {},
   "source": [
    "## 3. 仮想環境をカーネルに追加\n",
    "\n",
    "作成した仮想環境をアクティベートしてカーネルに追加します。"
   ]
  },
  {
   "cell_type": "code",
   "execution_count": 2,
   "id": "719a0287-4a6f-41aa-bc8b-907837fefc22",
   "metadata": {},
   "outputs": [
    {
     "name": "stdout",
     "output_type": "stream",
     "text": [
      "Installed kernelspec PythonAITraining in C:\\Users\\taka\\.jupyter\\data\\kernels\\pythonaitraining\n"
     ]
    }
   ],
   "source": [
    "!.venv\\Scripts\\activate\n",
    "!ipython kernel install --user --name=PythonAITraining"
   ]
  },
  {
   "cell_type": "markdown",
   "id": "f7f99424-1315-465d-81b7-db812cc9da6a",
   "metadata": {},
   "source": [
    "## 4. JupyterLab (Jupyter Notebook) を再起動\n",
    "\n",
    "JupyterLab (Jupyter Notebook) を再起動します。\n",
    "\n",
    "Launcher に **PythonAITraining** カーネルが表示されていることを確認します。"
   ]
  },
  {
   "cell_type": "markdown",
   "id": "d58ab7f5-1eeb-4847-bf31-593ff9b5aeb6",
   "metadata": {},
   "source": [
    "## 5. この Notebook を PythonAITraining カーネルで開きなおす\n",
    "\n",
    "この後のパッケージインストールの前に、この Notebook を **PythonAITraining** カーネルで開きなおします。\n",
    "\n",
    "Notebook の右上にある [**Switch Kernel**] をクリックして [Select Kernel] が開いたら、**PythonAITraining** を選択して [Select] ボタンをクリックします。\n",
    "\n",
    "> ここでのカーネル変更は重要です。  \n",
    "> この後のインストール実行の前に必ずカーネルを変更してください。\n",
    "\n",
    "<img src=\"./images/setup_changekernel.jpg\" width=\"480px\" />"
   ]
  },
  {
   "cell_type": "markdown",
   "id": "f619c508-c6f4-40e2-99b0-3b1eedf04dd2",
   "metadata": {},
   "source": [
    "## 6. ハンズオンで利用するパッケージをインストール\n",
    "\n",
    "ハンズオンで利用するパッケージをインストールします。"
   ]
  },
  {
   "cell_type": "code",
   "execution_count": 1,
   "id": "76b66ce1-c475-453d-852b-b3a07b1ea8b0",
   "metadata": {},
   "outputs": [],
   "source": [
    "!.venv\\Scripts\\activate"
   ]
  },
  {
   "cell_type": "code",
   "execution_count": 2,
   "id": "afdad43a-2ce4-4d6c-988c-3d8cd8395e92",
   "metadata": {},
   "outputs": [
    {
     "name": "stdout",
     "output_type": "stream",
     "text": [
      "Collecting python-dotenv\n",
      "  Using cached python_dotenv-0.19.0-py2.py3-none-any.whl (17 kB)\n",
      "Installing collected packages: python-dotenv\n",
      "Successfully installed python-dotenv-0.19.0\n",
      "Note: you may need to restart the kernel to use updated packages.\n"
     ]
    }
   ],
   "source": [
    "%pip install python-dotenv"
   ]
  },
  {
   "cell_type": "markdown",
   "id": "6f8dd339-883c-4268-b360-1b611a010ea0",
   "metadata": {},
   "source": [
    "## 7. 環境変数の設定"
   ]
  },
  {
   "cell_type": "markdown",
   "id": "f30b907b-2bcb-4a1b-b0a3-e7f453dcf74b",
   "metadata": {},
   "source": [
    "> 注) 集合形式のハンズオンなどで別途 \".env\" ファイルが提供されている場合は、\".env\" ファイルをこのファイルがあるフォルダーにアップロードしてください。  \n",
    "> インストール作業はこれで終了です。\n",
    ">\n",
    "> <img src=\"./images/setup_uploadenv.jpg\" width=\"400px\" />"
   ]
  },
  {
   "cell_type": "markdown",
   "id": "16fbc40c-4826-4acc-a9c6-59693f82a656",
   "metadata": {},
   "source": [
    "_env ファイルを .env にコピーしてメモ帳で開きます。\n",
    "\n",
    "> 現在使用しているのが Windows ではない場合、またはもしメモ帳が起動しない場合は、このフォルダーにある .env ファイルをテキストエディターで開いてください。"
   ]
  },
  {
   "cell_type": "code",
   "execution_count": 3,
   "id": "117b26de-3b3a-40dc-9e38-c0800d2d2157",
   "metadata": {},
   "outputs": [
    {
     "name": "stdout",
     "output_type": "stream",
     "text": [
      "        1 file(s) copied.\n"
     ]
    }
   ],
   "source": [
    "!copy _env .env\n",
    "!notepad.exe .env"
   ]
  },
  {
   "cell_type": "markdown",
   "id": "59e7a158-d0e7-49c5-86f2-7eb94b6025f0",
   "metadata": {},
   "source": [
    "先頭の3行のコメントを削除します。\n",
    "次に、別途作成または用意された Cognitive Services のエンドポイントおよびキー（1, 2 のどちらでもかまいません）で各行の値を置換します。\n",
    "編集したらファイルを保存してメモ帳を終了します。\n",
    "\n",
    "<img src=\"./images/setup_editenv.jpg\" width=\"640px\" />"
   ]
  },
  {
   "cell_type": "markdown",
   "id": "17e23e98-89a3-4129-8423-68ab51316259",
   "metadata": {},
   "source": [
    "以上でハンズオンの環境構築は完了です。"
   ]
  }
 ],
 "metadata": {
  "kernelspec": {
   "display_name": "PythonAITraining",
   "language": "python",
   "name": "pythonaitraining"
  },
  "language_info": {
   "codemirror_mode": {
    "name": "ipython",
    "version": 3
   },
   "file_extension": ".py",
   "mimetype": "text/x-python",
   "name": "python",
   "nbconvert_exporter": "python",
   "pygments_lexer": "ipython3",
   "version": "3.8.12"
  }
 },
 "nbformat": 4,
 "nbformat_minor": 5
}
