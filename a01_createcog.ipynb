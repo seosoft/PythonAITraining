{
 "cells": [
  {
   "cell_type": "markdown",
   "id": "32b957f2-58a4-4e39-bc92-2b3b876de17a",
   "metadata": {},
   "source": [
    "# 補足 1) Cognitive Services リソースの作成方法"
   ]
  },
  {
   "cell_type": "markdown",
   "id": "74efa8d6-2262-4650-8abb-8833d3ed348d",
   "metadata": {},
   "source": [
    "ハンズオンで接続する Cognitive Services のリソースがまだない場合は以下の手順で作成します。\n",
    "\n",
    "> 作成には Azure サブスクリプションが必要です。"
   ]
  },
  {
   "cell_type": "markdown",
   "id": "70e53c5d-8362-47cd-9586-e768b9c80aa8",
   "metadata": {},
   "source": [
    "[Azure ポータル](https://portal.azure.com/) に接続してサインインします。\n",
    "\n",
    "Azure ポータルが開いたら [**リソースの作成**] を選択します。\n",
    "\n",
    "<img src=\"./images/cog_azurenewresource.jpg\" width=\"540px\" />"
   ]
  },
  {
   "cell_type": "markdown",
   "id": "c56dda17-de85-4051-9d75-e7203952bceb",
   "metadata": {},
   "source": [
    "検索ボックスに \"**cognitive**\" と入力して、検索結果から \"**Cognitive Services**\" を選択します。\n",
    "\n",
    "<img src=\"./images/cog_selectcognitive.jpg\" width=\"540px\" />"
   ]
  },
  {
   "cell_type": "markdown",
   "id": "01f52378-3362-4cf7-bcc4-4e8eda267484",
   "metadata": {},
   "source": [
    "[**作成**] を選択します。\n",
    "\n",
    "<img src=\"./images/cog_createcognitive.jpg\" width=\"540px\" />"
   ]
  },
  {
   "cell_type": "markdown",
   "id": "a85a4fb8-418d-4ab6-bf28-2fe53ed58a30",
   "metadata": {},
   "source": [
    "作成ブレードが開いたら以下の選択、入力をします。  \n",
    "すべての選択、入力が終わったら [確認および作成] をクリックします。\n",
    "\n",
    "|項目|値|\n",
    "|---|---|\n",
    "|サブスクリプション|選択可能な任意の値|\n",
    "|リソースグループ|[新規作成] して任意の値を入力|\n",
    "|リージョン|任意|\n",
    "|名前|任意|\n",
    "|価格レベル|Standard S0|\n",
    "|このボックスをオンにすることにより～|選択|\n",
    "\n",
    "<img src=\"./images/cog_createcogbrade.jpg\" width=\"540px\" />"
   ]
  },
  {
   "cell_type": "markdown",
   "id": "ff56404c-49f0-4745-b8ec-50bd8dab8529",
   "metadata": {},
   "source": [
    "画面が遷移したら内容を確認して、さらに [**作成**] をクリックします。"
   ]
  },
  {
   "cell_type": "markdown",
   "id": "62136470-2049-4241-8fb9-cf98941f4f8c",
   "metadata": {},
   "source": [
    "[デプロイが完了しました] と表示されたら、[**リソースに移動**] をクリックします。"
   ]
  },
  {
   "cell_type": "markdown",
   "id": "b2d412d0-3c19-463d-a7a4-07a6f0dee8fe",
   "metadata": {},
   "source": [
    "Cognitive Services ブレードが表示されたら [**キーとエンドポイント**] を選択して、[**キー1**] の値、および [**エンドポイント**] の値を、[**こちら**](./0_Setup.ipynb) の手順の通り .env ファイルに貼り付けます。\n",
    "\n",
    "<img src=\"./images/cog_key_endpoint.jpg\" width=\"540px\" />"
   ]
  },
  {
   "cell_type": "markdown",
   "id": "57554f4e-4bf6-4a95-9cab-6e9af5b807d4",
   "metadata": {},
   "source": [
    "---\n",
    "\n",
    "以上で Cognitive Services リソースの作成は完了です。\n",
    "\n",
    "なおハンズオン終了後などのタイミングで、ここで作成したリソースを削除することをお勧めします。  \n",
    "リソースの削除方法は [**こちら**](./a02_deletecog.ipynb) を参照してください。"
   ]
  }
 ],
 "metadata": {
  "kernelspec": {
   "display_name": "Python 3 (ipykernel)",
   "language": "python",
   "name": "python3"
  },
  "language_info": {
   "codemirror_mode": {
    "name": "ipython",
    "version": 3
   },
   "file_extension": ".py",
   "mimetype": "text/x-python",
   "name": "python",
   "nbconvert_exporter": "python",
   "pygments_lexer": "ipython3",
   "version": "3.8.12"
  }
 },
 "nbformat": 4,
 "nbformat_minor": 5
}
