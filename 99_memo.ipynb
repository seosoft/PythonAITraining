{
 "cells": [
  {
   "cell_type": "markdown",
   "id": "2d5046fd-693d-4e02-9d4f-e469705b58a9",
   "metadata": {},
   "source": [
    "# 記録用"
   ]
  },
  {
   "cell_type": "markdown",
   "id": "ac513cc0-266f-400b-b3c6-d09098af2670",
   "metadata": {},
   "source": [
    "## describe_image_in_stream を使った画像分析"
   ]
  },
  {
   "cell_type": "code",
   "execution_count": null,
   "id": "7d586cf2-0a44-4d76-ad94-81b903603e67",
   "metadata": {},
   "outputs": [],
   "source": [
    "from dotenv import load_dotenv\n",
    "import os"
   ]
  },
  {
   "cell_type": "code",
   "execution_count": null,
   "id": "c74e0773-ba92-4b9a-9221-2e0fb98936ad",
   "metadata": {},
   "outputs": [],
   "source": [
    "# Cognitive Services 利用のために Endpoint と Key とを読み込みます\n",
    "load_dotenv()\n",
    "cog_endpoint = os.getenv('COG_SERVICE_ENDPOINT')\n",
    "cog_key = os.getenv('COG_SERVICE_KEY')"
   ]
  },
  {
   "cell_type": "code",
   "execution_count": null,
   "id": "d705b641-5367-40a7-831b-e9b197738760",
   "metadata": {},
   "outputs": [],
   "source": [
    "print(\"Endpoint: \" + cog_endpoint)\n",
    "print(\"Key: \" + cog_key)"
   ]
  },
  {
   "cell_type": "code",
   "execution_count": null,
   "id": "4530608f-089b-4c02-ac39-334a853e9063",
   "metadata": {},
   "outputs": [],
   "source": [
    "from azure.cognitiveservices.vision.computervision import ComputerVisionClient\n",
    "from msrest.authentication import CognitiveServicesCredentials\n",
    "import matplotlib.pyplot as plt\n",
    "from PIL import Image\n",
    "%matplotlib inline"
   ]
  },
  {
   "cell_type": "code",
   "execution_count": null,
   "id": "6a4f221f-f9e7-49db-9d4f-9a68d3711b5a",
   "metadata": {},
   "outputs": [],
   "source": [
    "# 画像のパスを決定\n",
    "image_path = os.path.join('data', 'vision', 'image1.jpg')"
   ]
  },
  {
   "cell_type": "code",
   "execution_count": null,
   "id": "997caefd-7cc1-4272-8c97-8bd3eb720b62",
   "metadata": {},
   "outputs": [],
   "source": [
    "img = Image.open(image_path)\n",
    "plt.axis('off')\n",
    "plt.imshow(img)"
   ]
  },
  {
   "cell_type": "code",
   "execution_count": null,
   "id": "9550fbd9-a9c0-4ae0-a3ca-221531adf6d3",
   "metadata": {
    "tags": []
   },
   "outputs": [],
   "source": [
    "# Get a client for the computer vision service\n",
    "computervision_client = ComputerVisionClient(cog_endpoint, CognitiveServicesCredentials(cog_key))"
   ]
  },
  {
   "cell_type": "code",
   "execution_count": null,
   "id": "6a1fcc36-fc1c-4b3b-9a88-3983e2299208",
   "metadata": {},
   "outputs": [],
   "source": [
    "# Get a description from the computer vision service\n",
    "image_stream = open(image_path, \"rb\")\n",
    "#description = computervision_client.describe_image_in_stream(image_stream)\n",
    "description = computervision_client.describe_image_in_stream(image_stream, language=\"ja\")"
   ]
  },
  {
   "cell_type": "code",
   "execution_count": null,
   "id": "94b70be2-e817-4409-ab1f-f41d2de1b002",
   "metadata": {},
   "outputs": [],
   "source": [
    "print(description)"
   ]
  },
  {
   "cell_type": "code",
   "execution_count": null,
   "id": "4862b436-d121-429f-b018-e4fde6960df1",
   "metadata": {},
   "outputs": [],
   "source": [
    "for tag in description.tags:\n",
    "    print(tag)"
   ]
  },
  {
   "cell_type": "code",
   "execution_count": null,
   "id": "f31b256f-3149-4433-8720-8b91472cabb7",
   "metadata": {},
   "outputs": [],
   "source": [
    "print(description.captions[0])"
   ]
  },
  {
   "cell_type": "code",
   "execution_count": null,
   "id": "7dd12c1b-13d9-4efa-9a4f-7ef290cbe239",
   "metadata": {
    "tags": []
   },
   "outputs": [],
   "source": [
    "for caption in description.captions:\n",
    "    print(f'{caption.text} ({(caption.confidence * 100):.1f}%)')"
   ]
  }
 ],
 "metadata": {
  "kernelspec": {
   "display_name": "Python 3 (ipykernel)",
   "language": "python",
   "name": "python3"
  },
  "language_info": {
   "codemirror_mode": {
    "name": "ipython",
    "version": 3
   },
   "file_extension": ".py",
   "mimetype": "text/x-python",
   "name": "python",
   "nbconvert_exporter": "python",
   "pygments_lexer": "ipython3",
   "version": "3.8.12"
  }
 },
 "nbformat": 4,
 "nbformat_minor": 5
}
