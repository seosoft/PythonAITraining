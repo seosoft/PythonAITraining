{
 "cells": [
  {
   "cell_type": "markdown",
   "id": "eb2c0d7a-7d78-46d6-a8f3-04a9be3577de",
   "metadata": {
    "tags": []
   },
   "source": [
    "# Python の基礎"
   ]
  },
  {
   "cell_type": "markdown",
   "id": "5b0abcde-7a11-4fd4-9d05-b7d5f0fa398d",
   "metadata": {},
   "source": [
    "## 1. データの表示\n",
    "\n",
    "プログラミング言語は処理結果や計算結果などのデータを表示する機能を持っています。\n",
    "Pythonでも情報を表示することができます。\n",
    "\n",
    "**print(\"表示したい内容\")**\n",
    "\n",
    "とします。"
   ]
  },
  {
   "cell_type": "code",
   "execution_count": 9,
   "id": "46de7985-4149-467c-976a-a00a65de1da4",
   "metadata": {},
   "outputs": [
    {
     "name": "stdout",
     "output_type": "stream",
     "text": [
      "Hello Python!\n"
     ]
    }
   ],
   "source": [
    "print(\"Hello Python!\")"
   ]
  },
  {
   "cell_type": "markdown",
   "id": "39885f43-2285-42b3-8751-67eeef459ea7",
   "metadata": {},
   "source": [
    "数値や数式を表示することもできます。"
   ]
  },
  {
   "cell_type": "code",
   "execution_count": 2,
   "id": "1534565d-ff8b-4a00-b6f0-7e1b8743964a",
   "metadata": {},
   "outputs": [
    {
     "name": "stdout",
     "output_type": "stream",
     "text": [
      "3\n"
     ]
    }
   ],
   "source": [
    "print(1+2)"
   ]
  },
  {
   "cell_type": "markdown",
   "id": "c6d13833-022e-498d-9e4f-8998e5d6d342",
   "metadata": {},
   "source": [
    "2個以上のデータをカンマで区切って指定すると続けて表示することもできます。\n",
    "\n",
    "次のセルでは、**「1+2=」という文字列** と **1+2 の計算結果** を続けて表示します。 "
   ]
  },
  {
   "cell_type": "code",
   "execution_count": 3,
   "id": "e75f7605-3516-4623-8a4c-d4c20c7fc61d",
   "metadata": {},
   "outputs": [
    {
     "name": "stdout",
     "output_type": "stream",
     "text": [
      "1+2= 3 です\n"
     ]
    }
   ],
   "source": [
    "print(\"1+2=\", 1+2, \"です\")"
   ]
  },
  {
   "cell_type": "markdown",
   "id": "12eed318-7a39-4c50-8675-264c05f0ff11",
   "metadata": {},
   "source": [
    "## 2. データの入力\n",
    "\n",
    "処理の途中でユーザー（人間）に必要な情報を入力してもらうことができます。\n",
    "\n",
    "**変数名 = input(\"入力を促すメッセージ\")**"
   ]
  },
  {
   "cell_type": "code",
   "execution_count": 7,
   "id": "95de9546-fdd2-48e4-9e58-c8720d8b2026",
   "metadata": {},
   "outputs": [
    {
     "name": "stdin",
     "output_type": "stream",
     "text": [
      "名前を教えてください 瀬尾\n"
     ]
    },
    {
     "name": "stdout",
     "output_type": "stream",
     "text": [
      "こんにちは、 瀬尾 さん\n"
     ]
    }
   ],
   "source": [
    "name = input(\"名前を教えてください\")\n",
    "print(\"こんにちは、\", name, \"さん\")"
   ]
  },
  {
   "cell_type": "markdown",
   "id": "ca0323ef-d6b7-4fd2-a12d-e2136262e6c9",
   "metadata": {},
   "source": []
  }
 ],
 "metadata": {
  "kernelspec": {
   "display_name": "OcLessons",
   "language": "python",
   "name": "oclessons"
  },
  "language_info": {
   "codemirror_mode": {
    "name": "ipython",
    "version": 3
   },
   "file_extension": ".py",
   "mimetype": "text/x-python",
   "name": "python",
   "nbconvert_exporter": "python",
   "pygments_lexer": "ipython3",
   "version": "3.8.12"
  }
 },
 "nbformat": 4,
 "nbformat_minor": 5
}
