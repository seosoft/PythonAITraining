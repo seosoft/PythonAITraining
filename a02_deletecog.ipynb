{
 "cells": [
  {
   "cell_type": "markdown",
   "id": "edf7e769-8c87-4349-90d1-01c3c4b6b6a6",
   "metadata": {},
   "source": [
    "# 補足 2) Cognitive Services リソースの削除方法"
   ]
  },
  {
   "cell_type": "markdown",
   "id": "c85d2920-4c7d-4235-8970-21418e7432bb",
   "metadata": {},
   "source": [
    "Cognitive Services のリソースを自分で作成した場合には、ハンズオン終了後などのタイミングで作成したリソースを削除することをお勧めします。\n",
    "\n",
    "> 集合形式の演習などで、Cognitive Services のリソースが事前に用意されていた場合は、以下の操作は不要です。講師やスタッフの指示に従ってください。"
   ]
  },
  {
   "cell_type": "markdown",
   "id": "5094ef12-ae8b-4e9f-a004-fbe3242557dd",
   "metadata": {},
   "source": [
    "---"
   ]
  },
  {
   "cell_type": "markdown",
   "id": "4af485e2-5f71-4400-9cc2-e9a02e0b141e",
   "metadata": {},
   "source": [
    "リソースを削除するには、Azure ポータルの検索ボックスで作成した **リソースグループ名** を入力して、表示された検索結果からリソースグループ名をクリックします。\n",
    "\n",
    "> 検索するのは、リソース名ではなく **リソースグループ名** です。\n",
    "\n",
    "<img src=\"./images/cog_search_on_azure.jpg\" width=\"540px\" />"
   ]
  },
  {
   "cell_type": "markdown",
   "id": "fe4a0d11-edc4-42bb-b862-ee9a24217579",
   "metadata": {},
   "source": [
    "[**リソースグループの削除**] をクリックします。\n",
    "\n",
    "<img src=\"./images/cog_azure_del_rg.jpg\" width=\"540px\" />"
   ]
  },
  {
   "cell_type": "markdown",
   "id": "2f7321d4-bbad-40c8-bda7-06ade1647fd9",
   "metadata": {},
   "source": [
    "確認のためにもう一度リソースグループ名を入力して [削除] をクリックします。\n",
    "\n",
    "<img src=\"./images/cog_confirm_del_res.jpg\" width=\"540px\" />"
   ]
  },
  {
   "cell_type": "markdown",
   "id": "60bd0ca5-e10b-49ec-b823-20a7ad7aaabf",
   "metadata": {},
   "source": [
    "---\n",
    "\n",
    "以上で、使い終わったリソース（リソースグループ）を削除できました。"
   ]
  }
 ],
 "metadata": {
  "kernelspec": {
   "display_name": "Python 3 (ipykernel)",
   "language": "python",
   "name": "python3"
  },
  "language_info": {
   "codemirror_mode": {
    "name": "ipython",
    "version": 3
   },
   "file_extension": ".py",
   "mimetype": "text/x-python",
   "name": "python",
   "nbconvert_exporter": "python",
   "pygments_lexer": "ipython3",
   "version": "3.8.12"
  }
 },
 "nbformat": 4,
 "nbformat_minor": 5
}
