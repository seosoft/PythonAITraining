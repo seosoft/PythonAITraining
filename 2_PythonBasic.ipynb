{
 "cells": [
  {
   "cell_type": "markdown",
   "id": "eb2c0d7a-7d78-46d6-a8f3-04a9be3577de",
   "metadata": {
    "tags": []
   },
   "source": [
    "# Python の基礎"
   ]
  },
  {
   "cell_type": "markdown",
   "id": "5b0abcde-7a11-4fd4-9d05-b7d5f0fa398d",
   "metadata": {},
   "source": [
    "## 1. データの表示\n",
    "\n",
    "プログラミング言語は処理結果や計算結果などのデータを表示する機能を持っています。\n",
    "Pythonでは print 関数を使ってデータを表示することができます。\n",
    "\n",
    "**print(\"表示したい内容\")**\n",
    "\n",
    "とします。\n",
    "\n",
    "下の Code セルで Shift + Enter を押すか Run ボタンをクリックして、print 関数の動きを実際に確認してください。"
   ]
  },
  {
   "cell_type": "code",
   "execution_count": null,
   "id": "46de7985-4149-467c-976a-a00a65de1da4",
   "metadata": {},
   "outputs": [],
   "source": [
    "print(\"Hello Python!\")"
   ]
  },
  {
   "cell_type": "markdown",
   "id": "39885f43-2285-42b3-8751-67eeef459ea7",
   "metadata": {},
   "source": [
    "---\n",
    "\n",
    "数値や数式を表示することもできます。\n",
    "\n",
    "下のコードを実行すると、1+2 ではなく **計算結果である 3** が表示されます。"
   ]
  },
  {
   "cell_type": "code",
   "execution_count": null,
   "id": "1534565d-ff8b-4a00-b6f0-7e1b8743964a",
   "metadata": {},
   "outputs": [],
   "source": [
    "print(1+2)"
   ]
  },
  {
   "cell_type": "markdown",
   "id": "c6d13833-022e-498d-9e4f-8998e5d6d342",
   "metadata": {},
   "source": [
    "---\n",
    "\n",
    "print 関数で 2個以上のデータをカンマで区切って指定すると、それらを続けて表示します。\n",
    "\n",
    "次のセルでは、**「1+2=」という文字列** と **1+2 の計算結果**、さらに 「**です**」という文字列を続けて表示します。\n",
    "\n",
    "> 文字列とは、単語や文章のような **文字を並べたもの** のことです。"
   ]
  },
  {
   "cell_type": "code",
   "execution_count": null,
   "id": "e75f7605-3516-4623-8a4c-d4c20c7fc61d",
   "metadata": {},
   "outputs": [],
   "source": [
    "print(\"1+2=\", 1+2, \"です\")"
   ]
  },
  {
   "cell_type": "markdown",
   "id": "caaaf1cd-64f9-49d4-8a73-16d14e2ba7ea",
   "metadata": {},
   "source": [
    "> データ表示では、より細かく書式を指定する方法があります。  \n",
    "> ここでは詳細は割愛しますが、[**こちら**](https://docs.microsoft.com/ja-jp/learn/modules/python-format-strings/4-exercise-format-function) に format 関数や文字列プレフィックスなどの説明があります。"
   ]
  },
  {
   "cell_type": "markdown",
   "id": "12eed318-7a39-4c50-8675-264c05f0ff11",
   "metadata": {},
   "source": [
    "## 2. データの入力\n",
    "\n",
    "**input** 関数を使うと、処理の途中でユーザー（人間）に必要な情報を入力させることができます。\n",
    "\n",
    "**変数名 = input(\"入力を促すメッセージ\")**\n",
    "\n",
    "> 変数とは、あとで使用するデータを覚えておく場所です。  \n",
    "> 下のセルでは、ユーザー入力を name という変数に代入（変数にデータを保存すること）してから、その値を print で表示しています。\n",
    "\n",
    "下のセルで、名前の入力を促されたら何か入力してください。入力内容を確定するには **Enter キー** を押します。（input の確定は Shift + Enter ではありません）"
   ]
  },
  {
   "cell_type": "code",
   "execution_count": null,
   "id": "95de9546-fdd2-48e4-9e58-c8720d8b2026",
   "metadata": {},
   "outputs": [],
   "source": [
    "name = input(\"名前を教えてください\")\n",
    "print(\"こんにちは、\", name, \"さん\")"
   ]
  },
  {
   "cell_type": "markdown",
   "id": "6f97f18d-3820-4cf4-a259-f859e055bfc6",
   "metadata": {},
   "source": [
    "## 3. 変数\n",
    "\n",
    "上のセルで使ったように、任意のデータを覚えておける場所を変数といいます。\n",
    "\n",
    "変数は、同じプログラム中で重複しない任意の名前を付けることができます。"
   ]
  },
  {
   "cell_type": "code",
   "execution_count": null,
   "id": "31235698-4a78-4def-91a5-b264f614ff43",
   "metadata": {},
   "outputs": [],
   "source": [
    "a = 3\n",
    "b = 5\n",
    "print(a + b)"
   ]
  },
  {
   "cell_type": "code",
   "execution_count": null,
   "id": "bd1324b9-9b3e-4b42-935d-6391dff50069",
   "metadata": {},
   "outputs": [],
   "source": [
    "name = \"テスト太郎\"\n",
    "age = 18\n",
    "print(name, \"さんは\", age, \"歳です\")"
   ]
  },
  {
   "cell_type": "markdown",
   "id": "03d78a7f-90f2-4ca2-87d0-b53f514aa0e3",
   "metadata": {},
   "source": [
    "---\n",
    "\n",
    "複数の文字列に対して \"**+**\" を使うと文字列を連結することができます。  \n",
    "\n",
    "+ 演算子を使って文字列の連結する例も見てみます。"
   ]
  },
  {
   "cell_type": "code",
   "execution_count": null,
   "id": "f0a50ea4-ceb6-451b-a936-c4e056ff78b5",
   "metadata": {},
   "outputs": [],
   "source": [
    "name = input(\"名前を教えてください\")\n",
    "print(\"こんにちは、\" + name + \" さん\")"
   ]
  },
  {
   "cell_type": "markdown",
   "id": "3d709ee2-54cb-430b-aaf3-5dd125f850b5",
   "metadata": {},
   "source": [
    "---\n",
    "\n",
    "\"+\" という演算子は数値にも文字列にも使用できますが、意味は異なります。\n",
    "\n",
    "最初はわかりづらいですが、\n",
    "\n",
    "- 12 + 34 ・・・12と34 という数値の足し算、結果は46\n",
    "- \"12\" + \"34\" ・・・\"12\" という文字列と \"34\" という文字列の連結、結果は \"1234\"\n",
    "\n",
    "という違いがあります。"
   ]
  },
  {
   "cell_type": "code",
   "execution_count": null,
   "id": "6bfed7f8-c683-4cf2-b6ea-96d0325c2937",
   "metadata": {},
   "outputs": [],
   "source": [
    "print(12 + 34)\n",
    "print(\"12\" + \"34\" )"
   ]
  },
  {
   "cell_type": "markdown",
   "id": "668b0b99-fb05-44fc-ad0b-b59e5fe834c9",
   "metadata": {},
   "source": [
    "## 4. 制御構文 - if 文\n",
    "\n",
    "条件によって異なる処理を実行したい場合は制御構文を使います。\n",
    "\n",
    "if 文は、\n",
    "\n",
    "- ある条件に当てはまる場合は、この処理\n",
    "- そうではなくて別の条件に当てはまる場合は、別の処理\n",
    "- どれにも当てはまらない場合は、さらに別の処理\n",
    "\n",
    "のように処理を切り替えることができます。\n",
    "\n",
    "if 文は\n",
    "\n",
    "```python\n",
    "if 条件式:\n",
    "    条件が成立する時の処理\n",
    "elif 別の条件式:\n",
    "    別の条件が成立する時の処理\n",
    "else:\n",
    "    それ以外の時の処理\n",
    "```\n",
    "\n",
    "のように記述します。\n",
    "\n",
    "elif や else は不要な場合は記述しなくてもかまいません。また条件が多い場合は else を複数記述することもできます。"
   ]
  },
  {
   "cell_type": "code",
   "execution_count": null,
   "id": "5034ed8d-3046-4dc0-abfd-7120dfc6d108",
   "metadata": {},
   "outputs": [],
   "source": [
    "name = input(\"名前を教えてください\")\n",
    "age = input(\"年齢を教えてください\")\n",
    "\n",
    "if int(age) < 20:\n",
    "    print(name + \" さんは未成年です\")\n",
    "else:\n",
    "    print(name + \" さんは成人です\")"
   ]
  },
  {
   "cell_type": "markdown",
   "id": "197a7cc5-e3c9-4863-9cd1-f8d2a192e6b9",
   "metadata": {},
   "source": [
    "上のセルでは \"**int(age)**\" としています。\n",
    "\n",
    "input 関数ではユーザーが入力した内容を文字列として受け取る決まりです。    \n",
    "つまり上のセルでユーザーが入力した age 変数は（ユーザーが数字を入力したとしても）文字列変数です。\n",
    "\n",
    "文字列と 20 という数値の大小を比較することはできないので、age 変数の値を int 関数を使って **数値に変換** しています。\n",
    "プログラミング言語ではこれを **キャスト** と言います。"
   ]
  },
  {
   "cell_type": "markdown",
   "id": "3503c0e9-d9c5-4357-8528-2e8064dc66f8",
   "metadata": {},
   "source": [
    "## 5. 制御構文 - for 文\n",
    "\n",
    "複数のデータに対して同じ処理を実施したいことはよくあります。  \n",
    "その場合は **for** を使用します。\n",
    "\n",
    "for 文は\n",
    "\n",
    "```python\n",
    "for 順に取り出したデータ in 配列などの複数のデータ:\n",
    "    取り出した各データに対する処理\n",
    "```\n",
    "\n",
    "のように記述します。"
   ]
  },
  {
   "cell_type": "code",
   "execution_count": null,
   "id": "df52fcde-9df9-4cea-b0f1-bc9f3bc20697",
   "metadata": {},
   "outputs": [],
   "source": [
    "animals = [\"Cat\", \"Dog\", \"Bird\"]\n",
    "\n",
    "for animal in animals:\n",
    "    print(animal)"
   ]
  },
  {
   "cell_type": "markdown",
   "id": "eba90ed5-0127-42ad-a798-d89c04376229",
   "metadata": {},
   "source": [
    "上のセルで animals は **配列** といいます。  \n",
    "配列とは複数のデータをまとめて管理するものです。\n",
    "\n",
    "例えば、Cat, Dog, Bird という文字列をまとめて animals で管理します。\n",
    "\n",
    "for 文は配列の要素を一つずつ取り出して同じ処理を実行します。  \n",
    "上のセルでは取り出した要素を順に print 関数で表示しています。"
   ]
  },
  {
   "cell_type": "markdown",
   "id": "1ea64556-eb5e-43ff-8a29-ff0f19e12c5f",
   "metadata": {},
   "source": [
    "## 6. 関数\n",
    "\n",
    "関数とは、ひとまとまりの処理を処理する仕組みです。\n",
    "\n",
    "ひとまとまりの処理が長くなってくると、処理の流れを見て理解するのが難しくなってきます。  \n",
    "または処理のまとまりを何度も利用する場合は、プログラミングが面倒になってきますし、不具合（コードの間違い）の元になります。\n",
    "\n",
    "このような場合は、関数を使ってひとまとまりの処理に名前を付けます。"
   ]
  },
  {
   "cell_type": "code",
   "execution_count": null,
   "id": "7563ad21-8c76-42a9-93a2-7184b3898c22",
   "metadata": {},
   "outputs": [],
   "source": [
    "def Hello(name):\n",
    "    if name == \"\":\n",
    "        print(\"こんにちは\")\n",
    "    else:\n",
    "        print(name + \"さん、こんにちは\")"
   ]
  },
  {
   "cell_type": "markdown",
   "id": "62aa30e9-176d-4d9c-9a37-cf58b95e9bca",
   "metadata": {},
   "source": [
    "関数を定義すれば、あとはそれを呼び出すだけで同じ処理を繰り返すことができます。"
   ]
  },
  {
   "cell_type": "code",
   "execution_count": null,
   "id": "fad96462-3c44-4f44-bd1c-19c2a755d92b",
   "metadata": {},
   "outputs": [],
   "source": [
    "names = [\"\", \"瀬尾\", \"佐藤\", \"鈴木\"]\n",
    "\n",
    "for name in names:\n",
    "    Hello(name)"
   ]
  },
  {
   "cell_type": "markdown",
   "id": "1eb42586-fd85-481f-a956-1c61a7211665",
   "metadata": {},
   "source": [
    "Hello 関数は比較的簡単な処理なので効果がわかりづらいかもしれません。\n",
    "上のセルの場合、次のように書いても同じ結果を表示します。"
   ]
  },
  {
   "cell_type": "code",
   "execution_count": null,
   "id": "0b10f552-e4ed-4024-9390-e5975d826375",
   "metadata": {},
   "outputs": [],
   "source": [
    "print(\"こんにちは\")\n",
    "print(\"瀬尾さん、こんにちは\")\n",
    "print(\"佐藤さん、こんにちは\")\n",
    "print(\"鈴木さん、こんにちは\")"
   ]
  },
  {
   "cell_type": "markdown",
   "id": "869b1fc3-4603-43fb-ab16-004509f21607",
   "metadata": {},
   "source": [
    "挨拶を「～様、ごきげんよう」に変更したい場合、関数を使わないやり方では３か所を正確に変更しなければなりません。  \n",
    "関数を使えば Hello 関数の内部の処理 1箇所を変更するだけで済みます。\n",
    "\n",
    "3人程度であればそれほど苦労せずに変更できるかもしれませんが、10000人になった場合を想像すると関数の効果が理解できると思います。"
   ]
  },
  {
   "cell_type": "markdown",
   "id": "272232a1-2171-4d71-9092-ffba979b2126",
   "metadata": {},
   "source": [
    "---\n",
    "\n",
    "以上、簡単ですが Python の基礎を紹介しました。\n",
    "\n",
    "ここで扱ったのは Python のごく簡単な内容です。  \n",
    "より詳しく勉強したい場合は、書籍にもネット上にもたくさんの情報があるのでそれを利用してください。\n",
    "\n",
    "例えば、Microsoft Learn という以下のサイトには初心者にも分かりやすい情報がたくさん掲載されています。マイクロソフトが運営しているものなので安心して、またすべて無償で利用できます。\n",
    "\n",
    "[Python の最初のステップ](https://docs.microsoft.com/ja-jp/learn/paths/python-first-steps/)"
   ]
  }
 ],
 "metadata": {
  "kernelspec": {
   "display_name": "Python 3 (ipykernel)",
   "language": "python",
   "name": "python3"
  },
  "language_info": {
   "codemirror_mode": {
    "name": "ipython",
    "version": 3
   },
   "file_extension": ".py",
   "mimetype": "text/x-python",
   "name": "python",
   "nbconvert_exporter": "python",
   "pygments_lexer": "ipython3",
   "version": "3.8.12"
  }
 },
 "nbformat": 4,
 "nbformat_minor": 5
}
