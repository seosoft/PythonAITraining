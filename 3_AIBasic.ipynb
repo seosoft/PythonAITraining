{
 "cells": [
  {
   "cell_type": "markdown",
   "id": "cd20dbcc-ddd1-4dcf-8545-2343267e27b5",
   "metadata": {},
   "source": [
    "# Azure Cognitive Services で AI プログラミング"
   ]
  },
  {
   "cell_type": "markdown",
   "id": "8558b8cb-29c5-4e8d-afbf-84a853de0631",
   "metadata": {},
   "source": [
    "## 0. 準備 - Cognitive Services 接続情報を確認"
   ]
  },
  {
   "cell_type": "markdown",
   "id": "b72a98a7-1ef4-486c-bab0-72a42d12446b",
   "metadata": {},
   "source": [
    "このハンズオンでは Azure Cognitive Services で提供されている **事前構築済みの AI** を利用して AI 開発を体験します。\n",
    "\n",
    "最初に Cognitive Services への接続情報が正しく設定されているかを確認します。\n",
    "\n",
    "> 集合形式のハンズオンではあらかじめ接続情報が設定されているかもしれません。  \n",
    "> その場合は、以下のセルを実行すると、エンドポイントとキーの値が表示されます。\n",
    ">\n",
    "> 接続情報が設定されていない場合は、 [**Cognitive リソースの作成**](./a01_createcog.ipynb) および [**ハンズオンの環境構築**](./0_setup.ipynb) を実施する必要があります。"
   ]
  },
  {
   "cell_type": "code",
   "execution_count": null,
   "id": "5b364b0d-3749-4f07-84d6-ad609ffa4909",
   "metadata": {},
   "outputs": [],
   "source": [
    "from dotenv import load_dotenv\n",
    "import os"
   ]
  },
  {
   "cell_type": "code",
   "execution_count": null,
   "id": "60904982-f9a4-43d6-90fb-e8157afdb6c5",
   "metadata": {},
   "outputs": [],
   "source": [
    "# Cognitive Services 利用のために Endpoint と Key とを読み込みます\n",
    "load_dotenv()\n",
    "cog_endpoint = os.getenv('COG_SERVICE_ENDPOINT')\n",
    "cog_key = os.getenv('COG_SERVICE_KEY')"
   ]
  },
  {
   "cell_type": "code",
   "execution_count": null,
   "id": "980f3ddb-2c7a-457f-ba6f-b6b10afd9b7a",
   "metadata": {},
   "outputs": [],
   "source": [
    "print(\"Endpoint: \" + cog_endpoint)\n",
    "print(\"Key: \" + cog_key)"
   ]
  },
  {
   "cell_type": "markdown",
   "id": "bc034178-852e-4f69-bafc-9fbff83eed07",
   "metadata": {},
   "source": [
    "---"
   ]
  },
  {
   "cell_type": "markdown",
   "id": "c618aafd-d1c7-4ad7-a31f-df6c6fa7599b",
   "metadata": {},
   "source": [
    "## 1. 画像分析"
   ]
  },
  {
   "cell_type": "code",
   "execution_count": null,
   "id": "94358f95-a3dc-445a-b50c-584007111dba",
   "metadata": {},
   "outputs": [],
   "source": [
    "from azure.cognitiveservices.vision.computervision import ComputerVisionClient\n",
    "from msrest.authentication import CognitiveServicesCredentials\n",
    "import matplotlib.pyplot as plt\n",
    "from PIL import Image\n",
    "%matplotlib inline"
   ]
  },
  {
   "cell_type": "code",
   "execution_count": null,
   "id": "396fc5af-7982-4ec5-b352-d8a9dfeb9438",
   "metadata": {},
   "outputs": [],
   "source": [
    "# 画像のパスを決定\n",
    "image_path = os.path.join('data', 'image', 'image1.jpg')\n",
    "#image_path = os.path.join('data', 'image', 'image2.jpg')"
   ]
  },
  {
   "cell_type": "code",
   "execution_count": null,
   "id": "5821b9b0-31d2-4cc9-b3ca-65dcf228499e",
   "metadata": {},
   "outputs": [],
   "source": [
    "img = Image.open(image_path)\n",
    "plt.axis('off')\n",
    "plt.imshow(img)"
   ]
  },
  {
   "cell_type": "code",
   "execution_count": null,
   "id": "f27620c0-152d-47aa-b635-30e8cd67eff5",
   "metadata": {
    "tags": []
   },
   "outputs": [],
   "source": [
    "# Get a client for the computer vision service\n",
    "computervision_client = ComputerVisionClient(cog_endpoint, CognitiveServicesCredentials(cog_key))"
   ]
  },
  {
   "cell_type": "code",
   "execution_count": null,
   "id": "09565b12-06d4-4c53-b778-cab4c06e7116",
   "metadata": {},
   "outputs": [],
   "source": [
    "image_stream = open(image_path, \"rb\")\n",
    "\n",
    "features = ['Description', 'Tags', 'Adult', 'Objects', 'Faces']\n",
    "#analysis = computervision_client.analyze_image_in_stream(image_stream, visual_features=features)\n",
    "analysis = computervision_client.analyze_image_in_stream(image_stream, visual_features=features, language=\"ja\")"
   ]
  },
  {
   "cell_type": "code",
   "execution_count": null,
   "id": "8e7ea08e-df18-48c2-8c4b-d8b3a101259e",
   "metadata": {},
   "outputs": [],
   "source": [
    "for tag in analysis.tags:\n",
    "    print(f'{tag.name} ({(tag.confidence * 100):.1f}%)')"
   ]
  },
  {
   "cell_type": "code",
   "execution_count": null,
   "id": "661fc653-a604-457a-a817-ad8824c0fc74",
   "metadata": {},
   "outputs": [],
   "source": [
    "import matplotlib.patches as patches\n",
    "\n",
    "plt.axis('off')\n",
    "plt.imshow(img)\n",
    "\n",
    "ax = plt.gca()\n",
    "\n",
    "for face in analysis.faces:\n",
    "    bound = face.face_rectangle\n",
    "  \n",
    "    rect = patches.Rectangle((bound.left, bound.top),\n",
    "                     bound.width,\n",
    "                     bound.height,\n",
    "                     linewidth=4,\n",
    "                     edgecolor='red',\n",
    "                     fill = False)\n",
    "\n",
    "    ax.add_patch(rect)\n",
    "\n",
    "plt.show()\n",
    "\n",
    "print(f'{len(analysis.faces)}人の人が写っています')\n",
    "\n",
    "for face in analysis.faces:\n",
    "    print(f'{\"男性\" if face.gender == \"Male\" else \"女性\"} {face.age}歳')"
   ]
  },
  {
   "cell_type": "markdown",
   "id": "10f915e8-3a3b-4508-8740-149de4e03376",
   "metadata": {},
   "source": [
    "> 上では if - else を 1行で記述しています。\n",
    ">\n",
    "> ```python\n",
    "> 条件が成立する時の処理 if 条件式 else 条件が成立しないときの処理\n",
    "> ```\n",
    ">\n",
    "> ソースコードが短くなるので、慣れると書くのも読むのも簡単になります。  \n",
    "> 今は、このような書き方もできるのかと思うくらいでもかまいません。"
   ]
  },
  {
   "cell_type": "markdown",
   "id": "2f4b61f3-9e13-478d-8763-2571cdb91ec0",
   "metadata": {},
   "source": [
    "---"
   ]
  },
  {
   "cell_type": "markdown",
   "id": "d8a5b64c-a5a0-45b1-9d3a-cd10703ae9b4",
   "metadata": {},
   "source": [
    "## 2. 自然言語処理"
   ]
  },
  {
   "cell_type": "code",
   "execution_count": null,
   "id": "e0db1fed-3f6a-4467-b3bb-4c406ca85b95",
   "metadata": {},
   "outputs": [],
   "source": [
    "from azure.cognitiveservices.language.textanalytics import TextAnalyticsClient\n",
    "from msrest.authentication import CognitiveServicesCredentials"
   ]
  },
  {
   "cell_type": "code",
   "execution_count": null,
   "id": "1fc21b5e-5c61-4e63-adb2-9fb9238003b3",
   "metadata": {},
   "outputs": [],
   "source": [
    "review_folder = os.path.join('data', 'text')\n",
    "\n",
    "reviews = []\n",
    "for filename in os.listdir(review_folder):\n",
    "    if filename.endswith(\".txt\"):\n",
    "        text = open(os.path.join(review_folder, filename), 'r', encoding='UTF-8').read()\n",
    "        review = {\"id\": filename, \"text\": text}\n",
    "        reviews.append(review)"
   ]
  },
  {
   "cell_type": "code",
   "execution_count": null,
   "id": "feae70a7-7430-4441-bfd2-1d9103df7ad5",
   "metadata": {},
   "outputs": [],
   "source": [
    "for review in reviews:\n",
    "    print(f'--- {review[\"id\"]} ---\\n{review[\"text\"]}')\n",
    "    print()"
   ]
  },
  {
   "cell_type": "code",
   "execution_count": null,
   "id": "8a932a87-07e8-45b6-8f09-d33b59f6a4d5",
   "metadata": {},
   "outputs": [],
   "source": [
    "# Get a client for your text analytics cognitive service resource\n",
    "text_analytics_client = TextAnalyticsClient(cog_endpoint, CognitiveServicesCredentials(cog_key))"
   ]
  },
  {
   "cell_type": "code",
   "execution_count": null,
   "id": "c4595939-63f4-4ec0-82e4-997b97f7724f",
   "metadata": {},
   "outputs": [],
   "source": [
    "# Analyze the reviews you read from the /data/reviews folder earlier\n",
    "language_analysis = text_analytics_client.detect_language(documents=reviews)"
   ]
  },
  {
   "cell_type": "code",
   "execution_count": null,
   "id": "9b0bcb8a-c393-4485-84e4-bce3a07bee5f",
   "metadata": {},
   "outputs": [],
   "source": [
    "# print detected language details for each review\n",
    "for review_num in range(len(reviews)):\n",
    "    lang = language_analysis.documents[review_num].detected_languages[0]\n",
    "    print(f'{reviews[review_num][\"id\"]}: {lang.name} ({(lang.score * 100):.1f}%)')\n",
    "    \n",
    "    reviews[review_num] = {\"id\": reviews[review_num][\"id\"], \"text\": reviews[review_num][\"text\"], \"language\": lang.iso6391_name}"
   ]
  },
  {
   "cell_type": "code",
   "execution_count": null,
   "id": "c62cfc0a-ca12-47ef-aa77-cf7f2e5d5c69",
   "metadata": {},
   "outputs": [],
   "source": [
    "key_phrase_analysis = text_analytics_client.key_phrases(documents=reviews)"
   ]
  },
  {
   "cell_type": "code",
   "execution_count": null,
   "id": "a043182a-d382-4693-871e-43d6b764294f",
   "metadata": {},
   "outputs": [],
   "source": [
    "# print key phrases for each review\n",
    "for review_num in range(len(reviews)):\n",
    "    print(f'{reviews[review_num][\"id\"]} のキーフレーズ:')\n",
    "\n",
    "    key_phrases = key_phrase_analysis.documents[review_num].key_phrases\n",
    "    # Print each key phrase\n",
    "    for key_phrase in key_phrases:\n",
    "        print('\\t', key_phrase)\n",
    "        \n",
    "    print()"
   ]
  },
  {
   "cell_type": "code",
   "execution_count": null,
   "id": "11f63981-d0cf-45e7-8e5c-d08749744ad8",
   "metadata": {},
   "outputs": [],
   "source": [
    "# Use the client and reviews you created previously to get sentiment scores\n",
    "sentiment_analysis = text_analytics_client.sentiment(documents=reviews)"
   ]
  },
  {
   "cell_type": "code",
   "execution_count": null,
   "id": "cc9c65a3-d810-4663-afdf-58802f7efa91",
   "metadata": {},
   "outputs": [],
   "source": [
    "for review_num in range(len(reviews)):\n",
    "    sentiment_score = sentiment_analysis.documents[review_num].score\n",
    "    sentiment = \"ネガティブ\" if sentiment_score < 0.5 else \"ポジティブ\"\n",
    "    print(f'{sentiment_analysis.documents[review_num].id}: {sentiment} ({(sentiment_score * 100):.1f}%)')"
   ]
  }
 ],
 "metadata": {
  "kernelspec": {
   "display_name": "Python 3 (ipykernel)",
   "language": "python",
   "name": "python3"
  },
  "language_info": {
   "codemirror_mode": {
    "name": "ipython",
    "version": 3
   },
   "file_extension": ".py",
   "mimetype": "text/x-python",
   "name": "python",
   "nbconvert_exporter": "python",
   "pygments_lexer": "ipython3",
   "version": "3.8.12"
  }
 },
 "nbformat": 4,
 "nbformat_minor": 5
}
