{
 "cells": [
  {
   "cell_type": "markdown",
   "id": "7791593e-81a5-4258-b185-9e22d208c6b7",
   "metadata": {},
   "source": [
    "# ハンズオンの環境構築"
   ]
  },
  {
   "cell_type": "markdown",
   "id": "0ca879d0-5352-42ff-a0c4-b9b48e79bcb3",
   "metadata": {
    "tags": []
   },
   "source": [
    "## 1. 環境構築を実行するカーネルを確認\n",
    "\n",
    "**標準の Python 3 カーネル** でこの Notebook を開きます。"
   ]
  },
  {
   "cell_type": "code",
   "execution_count": null,
   "id": "8d4bfd06-c167-4e90-929e-aa460eeba8cd",
   "metadata": {},
   "outputs": [],
   "source": [
    "!python -m venv .venv"
   ]
  },
  {
   "cell_type": "markdown",
   "id": "77c48de0-0603-459b-a6e9-228495162a23",
   "metadata": {},
   "source": [
    "## 2. Python の仮想環境を作成\n",
    "\n",
    "venv の仮想環境を作成します。"
   ]
  },
  {
   "cell_type": "markdown",
   "id": "7a5b7def-4b57-4887-82a4-bdf7e377e5b8",
   "metadata": {},
   "source": [
    "## 3. 仮想環境をカーネルに追加\n",
    "\n",
    "作成した仮想環境をアクティベートしてカーネルに追加します。"
   ]
  },
  {
   "cell_type": "code",
   "execution_count": null,
   "id": "719a0287-4a6f-41aa-bc8b-907837fefc22",
   "metadata": {},
   "outputs": [],
   "source": [
    "!.venv\\Scripts\\activate\n",
    "!ipython kernel install --user --name=PythonAITraining"
   ]
  },
  {
   "cell_type": "markdown",
   "id": "f7f99424-1315-465d-81b7-db812cc9da6a",
   "metadata": {},
   "source": [
    "## 4. JupyterLab (Jupyter Notebook) を再起動\n",
    "\n",
    "JupyterLab (Jupyter Notebook) を再起動します。\n",
    "\n",
    "Launcher に **PythonAITraining** カーネルが表示されていることを確認します。"
   ]
  },
  {
   "cell_type": "markdown",
   "id": "d58ab7f5-1eeb-4847-bf31-593ff9b5aeb6",
   "metadata": {},
   "source": [
    "## 5. この Notebook を PythonAITraining カーネルで開きなおす\n",
    "\n",
    "この後のパッケージインストールの前に、この Notebook を **PythonAITraining** カーネルで開きなおします。\n",
    "\n",
    "Notebook の右上にある [**Switch Kernel**] をクリックして [Select Kernel] が開いたら、**PythonAITraining** を選択して [Select] ボタンをクリックします。\n",
    "\n",
    "> ここでのカーネル変更は重要です。  \n",
    "> この後のインストール実行の前に必ずカーネルを変更してください。\n",
    "\n",
    "<img src=\"./images/setup_changekernel.jpg\" width=\"480px\" />"
   ]
  },
  {
   "cell_type": "markdown",
   "id": "f619c508-c6f4-40e2-99b0-3b1eedf04dd2",
   "metadata": {},
   "source": [
    "## 6. ハンズオンで利用するパッケージをインストール\n",
    "\n",
    "ハンズオンで利用するパッケージをインストールします。"
   ]
  }
 ],
 "metadata": {
  "kernelspec": {
   "display_name": "Python 3 (ipykernel)",
   "language": "python",
   "name": "python3"
  },
  "language_info": {
   "codemirror_mode": {
    "name": "ipython",
    "version": 3
   },
   "file_extension": ".py",
   "mimetype": "text/x-python",
   "name": "python",
   "nbconvert_exporter": "python",
   "pygments_lexer": "ipython3",
   "version": "3.8.12"
  }
 },
 "nbformat": 4,
 "nbformat_minor": 5
}
