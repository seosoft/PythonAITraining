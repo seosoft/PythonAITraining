{
 "cells": [
  {
   "cell_type": "markdown",
   "id": "7791593e-81a5-4258-b185-9e22d208c6b7",
   "metadata": {},
   "source": [
    "# 演習の環境構築"
   ]
  },
  {
   "cell_type": "markdown",
   "id": "ba8e05f8-3542-4b1a-8ab3-48274db2ea78",
   "metadata": {},
   "source": [
    "演習を始める前に環境を構築します。\n",
    "\n",
    "> 集合形式の演習などの場合には以下の手順は不要かもしれません。講師やスタッフの指示に従ってください。"
   ]
  },
  {
   "cell_type": "markdown",
   "id": "f619c508-c6f4-40e2-99b0-3b1eedf04dd2",
   "metadata": {},
   "source": [
    "## 1. 演習で利用するパッケージをインストール\n",
    "\n",
    "演習で利用するパッケージをインストールします。\n",
    "\n",
    "> 実行するには、セルを選択して **Shift + Enter キー** を押します。"
   ]
  },
  {
   "cell_type": "code",
   "execution_count": null,
   "id": "316ae605-cc1d-4960-bcc3-503c20f989c1",
   "metadata": {},
   "outputs": [],
   "source": [
    "%pip install matplotlib\n",
    "%pip install Pillow"
   ]
  },
  {
   "cell_type": "code",
   "execution_count": null,
   "id": "afdad43a-2ce4-4d6c-988c-3d8cd8395e92",
   "metadata": {},
   "outputs": [],
   "source": [
    "%pip install python-dotenv\n",
    "%pip install msrest\n",
    "%pip install azure-cognitiveservices-vision-computervision\n",
    "%pip install azure-cognitiveservices-language-textanalytics"
   ]
  },
  {
   "cell_type": "markdown",
   "id": "57c941a0-f205-46c6-8e2e-7fb6161d5d7a",
   "metadata": {},
   "source": [
    "---"
   ]
  },
  {
   "cell_type": "markdown",
   "id": "6f8dd339-883c-4268-b360-1b611a010ea0",
   "metadata": {},
   "source": [
    "## 2. 環境変数の設定"
   ]
  },
  {
   "cell_type": "markdown",
   "id": "e10109a2-6af9-44ed-8358-016ba0f9bd73",
   "metadata": {},
   "source": [
    "### 2-0. 集合形式の演習などですでに \".env\" ファイルがアップロード済みの場合\n",
    "\n",
    "集合形式の演習などで \".env\" ファイルが既にアップロードされている場合は、これ以降のインストール作業は不要です。  \n",
    "講師やスタッフの指示に従ってください。"
   ]
  },
  {
   "cell_type": "markdown",
   "id": "0ee15390-d5bc-4d0e-b076-ee3280d46af9",
   "metadata": {},
   "source": [
    "---"
   ]
  },
  {
   "cell_type": "markdown",
   "id": "f30b907b-2bcb-4a1b-b0a3-e7f453dcf74b",
   "metadata": {},
   "source": [
    "### 2-1. 集合形式の演習などで \".env\" ファイルが別途用意されている場合\n",
    "\n",
    "集合形式の演習などで別途 \".env\" ファイルが提供されている場合は、\".env\" ファイルをこのファイルがあるフォルダーにアップロードしてください。  \n",
    "講師やスタッフの指示に従ってください。\n",
    "\n",
    "インストール作業はこれで終了です。\n",
    "\n",
    "<img src=\"./images/setup_uploadenv.jpg\" width=\"540px\" />"
   ]
  },
  {
   "cell_type": "markdown",
   "id": "02815bde-fea9-458a-b588-3f6f716c607a",
   "metadata": {},
   "source": [
    "---"
   ]
  },
  {
   "cell_type": "markdown",
   "id": "16fbc40c-4826-4acc-a9c6-59693f82a656",
   "metadata": {},
   "source": [
    "### 2-2. 別途 \".env\" ファイルが用意されていない場合\n",
    "\n",
    "別途 \".env\" ファイルが提供されていない場合は、下のセルを実行して _env ファイルをコピーして作った .env をメモ帳で開きます。（自動的にファイルをコピーしてメモ帳を開きます）\n",
    "\n",
    ".env ファイルが開いたら、以下の編集を行います。\n",
    "\n",
    "1. 先頭の3行のコメントを削除します。\n",
    "2. Cognitive Services を作成するか、別途用意された Cognitive Services のエンドポイントおよびキー（1, 2 のどちらでもかまいません）で .env の各行の値を置換します。  \n",
    "   (Cognitive Services の作成手順は [**こちら**](./a01_createcog.ipynb) を参照してください)\n",
    "\n",
    "編集したらファイルを保存してメモ帳を終了します。\n",
    "\n",
    "インストール作業はこれで終わりです。\n",
    "\n",
    "<img src=\"./images/setup_editenv.jpg\" width=\"720px\" />"
   ]
  },
  {
   "cell_type": "markdown",
   "id": "9bc76f67-e1c5-4a91-be01-8d3f46f1323e",
   "metadata": {},
   "source": [
    "注) 下のセルは Windows でのみ実行可能です。他の OS では処理に失敗するはずです。\n",
    "\n",
    "他の OS を利用している場合は、\n",
    "\n",
    "1. ターミナルを開く\n",
    "1. _env を .env にコピーする\n",
    "1. テキストエディターで .env を開く\n",
    "1. Cognitive Services のエンドポイントおよびキーを .env にコピー\n",
    "\n",
    "の手順で、.env ファイルを編集してください。\n",
    "\n",
    "詳細はここでは割愛します。"
   ]
  },
  {
   "cell_type": "code",
   "execution_count": null,
   "id": "19d13232-71d1-4b70-aca4-537fc6b55c27",
   "metadata": {},
   "outputs": [],
   "source": [
    "import os\n",
    "import shutil\n",
    "\n",
    "if os.path.isfile(\".env\") == False:\n",
    "    shutil.copy(\"_env\", \".env\")"
   ]
  },
  {
   "cell_type": "markdown",
   "id": "b57646fa-4437-4e85-ace6-67b362e17b28",
   "metadata": {},
   "source": [
    "次のセルは Windows でのみ実行可能です。  \n",
    "メモ帳を起動して .env ファイルを開きます。\n",
    "\n",
    "Windows 以外の OS を使用している場合、または Windows でメモ帳が開かなかった場合は、任意のテキストエディターで .env ファイルを開いてください。"
   ]
  },
  {
   "cell_type": "code",
   "execution_count": null,
   "id": "1c578256-1698-4f28-b20e-1498d7473d24",
   "metadata": {},
   "outputs": [],
   "source": [
    "!notepad.exe .env"
   ]
  },
  {
   "cell_type": "markdown",
   "id": "1509219f-11c4-47ea-9ee7-7b4ceb63db3d",
   "metadata": {},
   "source": [
    "---"
   ]
  },
  {
   "cell_type": "markdown",
   "id": "36eb5508-d0c6-4803-8834-197d60ddca01",
   "metadata": {},
   "source": [
    "Cognitive Services リソースを自分で作成した場合は、演習終了後に忘れずにリソースを削除してください。  \n",
    "削除の手順は [こちら](102_deletecog.ipynb) です。\n",
    "\n",
    "集合演習などであらかじめ Cognitive Services リソースが用意されていた場合は、特に何もする必要はありません。"
   ]
  }
 ],
 "metadata": {
  "kernelspec": {
   "display_name": "Python 3 (ipykernel)",
   "language": "python",
   "name": "python3"
  },
  "language_info": {
   "codemirror_mode": {
    "name": "ipython",
    "version": 3
   },
   "file_extension": ".py",
   "mimetype": "text/x-python",
   "name": "python",
   "nbconvert_exporter": "python",
   "pygments_lexer": "ipython3",
   "version": "3.8.12"
  }
 },
 "nbformat": 4,
 "nbformat_minor": 5
}
