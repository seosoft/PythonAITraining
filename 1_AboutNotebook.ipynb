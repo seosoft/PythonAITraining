{
 "cells": [
  {
   "cell_type": "markdown",
   "id": "31d5b451-ceee-4a60-8489-e0089f5d0411",
   "metadata": {},
   "source": [
    "# Notebook の操作"
   ]
  },
  {
   "cell_type": "markdown",
   "id": "49ecda40-322b-4035-9c7d-3da79bfa9516",
   "metadata": {},
   "source": [
    "## 1. Notebook とは？\n",
    "\n",
    "Python の基礎的な文法を覚える前に Notebook とその操作について簡単に覚えておきましょう。\n",
    "\n",
    "Python ではプログラムの実行環境として **Notebook** がよく使われます。\n",
    "\n",
    "Notebook を使うと、\n",
    "\n",
    "- プログラムを逐次実行（プログラムの小さいブロックを順に実行）\n",
    "- 実行結果をその場で保存\n",
    "- メモや説明なども一緒に記録\n",
    "\n",
    "できます。  \n",
    "今見ているこの画面も Notebook です。\n",
    "\n",
    "最近は Python 以外のプログラミング言語でも Notebook が使われることが増えてきました。"
   ]
  },
  {
   "cell_type": "markdown",
   "id": "b360b2dd-30bc-4cd7-a6f3-ba9e1368d33c",
   "metadata": {},
   "source": [
    "## 2. Notebook のセル\n",
    "\n",
    "Notebook には、\n",
    "\n",
    "- **Code** (コード)・・・プログラムを記述するブロック\n",
    "- **Markdown** (マークダウン)・・・書式を含めて文章などを記述するブロック\n",
    "\n",
    "を自由に組み合わせて記述することができます。\n",
    "Code ブロックおよび Markdown のブロックのことをNotebook では **Cell** (セル)と呼びます。\n",
    "\n",
    "例えば、今読んでいるこの文は Markdown セルに記述しているものです。"
   ]
  },
  {
   "cell_type": "markdown",
   "id": "4e989c97-4bc8-4d1e-9ad2-7987417a691e",
   "metadata": {},
   "source": [
    "## 3. Markdown セルの操作\n",
    "\n",
    "Markdown セルをダブルクリックすると、そのセルを編集できるようになります。\n",
    "\n",
    "Enter キーを押すとその位置で改行します。\n",
    "\n",
    "**Shift + Enter** (Shift キーを押しながら Enter キーを押す) で編集を終了します。\n",
    "画面上部の **Play ボタン** (三角のボタン)をクリックしても Markdown セルの編集を終了します。  \n",
    "間違えて Markdown セルの編集を始めてしまった場合は慌てずに Shift + Enter を押すか Play ボタンをクリックしてください。"
   ]
  },
  {
   "cell_type": "markdown",
   "id": "4e2f9321-27cb-41c3-8e2a-2ce7ebb3d8b2",
   "metadata": {},
   "source": [
    "## 4. Code セルの操作\n",
    "\n",
    "注) 今見ている Notebook には Code セルはありません。次の Notebook 出てできます。\n",
    "\n",
    "Code セルはクリックすると編集できるようになります。  \n",
    "Code セルは Shift + Enter を押すか Play ボタンをクリックすると、編集を終了してすぐにその **セルのプログラムを実行** します。"
   ]
  }
 ],
 "metadata": {
  "kernelspec": {
   "display_name": "Python 3 (ipykernel)",
   "language": "python",
   "name": "python3"
  },
  "language_info": {
   "codemirror_mode": {
    "name": "ipython",
    "version": 3
   },
   "file_extension": ".py",
   "mimetype": "text/x-python",
   "name": "python",
   "nbconvert_exporter": "python",
   "pygments_lexer": "ipython3",
   "version": "3.8.12"
  }
 },
 "nbformat": 4,
 "nbformat_minor": 5
}
