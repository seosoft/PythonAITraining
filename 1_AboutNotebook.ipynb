{
 "cells": [
  {
   "cell_type": "markdown",
   "id": "31d5b451-ceee-4a60-8489-e0089f5d0411",
   "metadata": {},
   "source": [
    "# Notebook の理解"
   ]
  },
  {
   "cell_type": "markdown",
   "id": "49ecda40-322b-4035-9c7d-3da79bfa9516",
   "metadata": {},
   "source": [
    "## 1. Notebook とは\n",
    "\n",
    "Python の基本的な文法を覚える前に Notebook とその開発・実行環境について簡単に覚えましょう。\n",
    "\n",
    "Python では **Notebook** がよく使われます。\n",
    "\n",
    "Notebook には、\n",
    "\n",
    "- ひとまとめの操作を記述した数行のコード（プログラム）\n",
    "- メモや説明など\n",
    "- コードの実行結果\n",
    "\n",
    "をまとめて保存できます。  \n",
    "今見ているこの画面も Notebook です。\n",
    "> Python 以外のプログラミング言語でも Notebook が使われることがあります。\n",
    "\n",
    "---\n",
    "\n",
    "Notebook は **Jupyter Notebook** や **JupyterLab** という開発・実行環境で開いて、編集とコードの実行を行うことができます。\n",
    "\n",
    "AI 開発（機械学習、深層学習）では、少しずつ試しながら開発を進めることが多いので、Notebook をよく使います。\n",
    "このため、開発・実行環境である Jupyter Notebook / JupyterLab の操作の理解は大事です。\n",
    "\n",
    "> Notebook を編集、実行できる開発環境（ツール）は Jupyter 以外にもあります。  \n",
    "> 他の開発環境も基本的な操作や画面の構成は Jupyter によく似ています。最初は Jupyter Notebook / JupyterLab の操作に慣れておけば問題ありません。"
   ]
  },
  {
   "cell_type": "markdown",
   "id": "b360b2dd-30bc-4cd7-a6f3-ba9e1368d33c",
   "metadata": {},
   "source": [
    "## 2. Notebook のセル\n",
    "\n",
    "Notebook には、\n",
    "\n",
    "- **Code** (コード)・・・プログラムを記述するブロック\n",
    "- **Markdown** (マークダウン)・・・書式を含めて文章などを記述するブロック\n",
    "\n",
    "を自由に組み合わせて記述することができます。\n",
    "\n",
    "Code ブロックおよび Markdown のブロックをNotebook では **Cell** (セル)と呼びます。\n",
    "\n",
    "例えば、今読んでいるこの文は Markdown セルに記述しているものです。"
   ]
  },
  {
   "cell_type": "markdown",
   "id": "4e989c97-4bc8-4d1e-9ad2-7987417a691e",
   "metadata": {},
   "source": [
    "## 3. Markdown セルの操作\n",
    "\n",
    "Markdown セルをダブルクリックすると、そのセルを編集できるようになります。\n",
    "\n",
    "編集中に **Enter キー** を押すとその位置で改行します。\n",
    "ただし Notebook のセルは **Markdown 記法** という文法で記述します。編集中と編集終了後とでは文字サイズは装飾（太字の指定や画像の貼り付けなど）などの見た目が変わることがあります。\n",
    "\n",
    "---\n",
    "\n",
    "編集中のセルで **Shift + Enter** (Shift キーを押しながら Enter キーを押す) すると編集を終了します。\n",
    "\n",
    "画面上部の **Run ボタン** (三角のボタン)をクリックしても Markdown セルの編集を終了します。\n",
    "\n",
    "<img src=\"./images/notebook_playbutton.jpg\" width=\"520px\" />\n",
    "\n",
    "> 間違えて Markdown セルを編集状態にしてしまった場合は、慌てずに Shift + Enter を押すか Run ボタンをクリックして編集を終了してください。"
   ]
  },
  {
   "cell_type": "markdown",
   "id": "4e2f9321-27cb-41c3-8e2a-2ce7ebb3d8b2",
   "metadata": {},
   "source": [
    "## 4. Code セルの操作\n",
    "\n",
    "> 注) 今見ている Notebook には Code セルは出てきません。次の Notebook では Code セルでコードを実行してみます。\n",
    "\n",
    "Code セルは **クリックすると編集状態** になります。  \n",
    "Code セルは **Shift + Enter** を押すか **Run ボタン** をクリックすると、編集を終了してすぐにその **セルのプログラムを実行** します。"
   ]
  },
  {
   "cell_type": "markdown",
   "id": "9df41c5c-a67a-402a-9d59-ec69ab242623",
   "metadata": {},
   "source": [
    "---\n",
    "\n",
    "以上で、Notebook の説明は終わりです。\n",
    "\n",
    "次の Notebook で Python の基礎を勉強しましょう。"
   ]
  }
 ],
 "metadata": {
  "kernelspec": {
   "display_name": "Python 3 (ipykernel)",
   "language": "python",
   "name": "python3"
  },
  "language_info": {
   "codemirror_mode": {
    "name": "ipython",
    "version": 3
   },
   "file_extension": ".py",
   "mimetype": "text/x-python",
   "name": "python",
   "nbconvert_exporter": "python",
   "pygments_lexer": "ipython3",
   "version": "3.8.12"
  }
 },
 "nbformat": 4,
 "nbformat_minor": 5
}
