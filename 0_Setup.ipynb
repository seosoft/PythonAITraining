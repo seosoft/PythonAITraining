{
 "cells": [
  {
   "cell_type": "markdown",
   "id": "7791593e-81a5-4258-b185-9e22d208c6b7",
   "metadata": {},
   "source": [
    "# ハンズオンの環境構築"
   ]
  },
  {
   "cell_type": "markdown",
   "id": "ba8e05f8-3542-4b1a-8ab3-48274db2ea78",
   "metadata": {},
   "source": [
    "ハンズオンを始める前に環境を構築します。"
   ]
  },
  {
   "cell_type": "markdown",
   "id": "f619c508-c6f4-40e2-99b0-3b1eedf04dd2",
   "metadata": {},
   "source": [
    "## 1. ハンズオンで利用するパッケージをインストール\n",
    "\n",
    "ハンズオンで利用するパッケージをインストールします。\n",
    "\n",
    "> 実行するには、セルを選択して **Shift + Enter キー** を押します。"
   ]
  },
  {
   "cell_type": "code",
   "execution_count": null,
   "id": "afdad43a-2ce4-4d6c-988c-3d8cd8395e92",
   "metadata": {},
   "outputs": [],
   "source": [
    "%pip install python-dotenv\n",
    "%pip install msrest\n",
    "%pip install azure-cognitiveservices-vision-computervision\n",
    "%pip install azure-cognitiveservices-language-textanalytics"
   ]
  },
  {
   "cell_type": "markdown",
   "id": "57c941a0-f205-46c6-8e2e-7fb6161d5d7a",
   "metadata": {},
   "source": [
    "---"
   ]
  },
  {
   "cell_type": "markdown",
   "id": "6f8dd339-883c-4268-b360-1b611a010ea0",
   "metadata": {},
   "source": [
    "## 2. 環境変数の設定"
   ]
  },
  {
   "cell_type": "markdown",
   "id": "f30b907b-2bcb-4a1b-b0a3-e7f453dcf74b",
   "metadata": {},
   "source": [
    "### 2-1. 集合形式のハンズオンなどで別途 \".env\" ファイルが用意されている場合\n",
    "\n",
    "集合形式のハンズオンなどで別途 \".env\" ファイルが提供されている場合は、\".env\" ファイルをこのファイルがあるフォルダーにアップロードしてください。\n",
    "\n",
    "インストール作業はこれで終了です。\n",
    "\n",
    "<img src=\"./images/setup_uploadenv.jpg\" width=\"540px\" />"
   ]
  },
  {
   "cell_type": "markdown",
   "id": "02815bde-fea9-458a-b588-3f6f716c607a",
   "metadata": {},
   "source": [
    "---"
   ]
  },
  {
   "cell_type": "markdown",
   "id": "16fbc40c-4826-4acc-a9c6-59693f82a656",
   "metadata": {},
   "source": [
    "### 2-2. 別途 \".env\" ファイルが用意されていない場合\n",
    "\n",
    "別途 \".env\" ファイルが提供されていない場合は、以下の操作で _env ファイルをコピーして作った .env をメモ帳で開きます。\n",
    "\n",
    ".env ファイルが開いたら、以下の編集を行います。\n",
    "\n",
    "1. 先頭の3行のコメントを削除します。\n",
    "2. Cognitive Services を作成するか、別途用意された Cognitive Services のエンドポイントおよびキー（1, 2 のどちらでもかまいません）で .env の各行の値を置換します。  \n",
    "   (Cognitive Services の作成手順は [**こちら**](./a01_createcog.ipynb) を参照してください)\n",
    "\n",
    "編集したらファイルを保存してメモ帳を終了します。\n",
    "\n",
    "インストール作業はこれで終わりです。\n",
    "\n",
    "<img src=\"./images/setup_editenv.jpg\" width=\"720px\" />"
   ]
  },
  {
   "cell_type": "code",
   "execution_count": null,
   "id": "117b26de-3b3a-40dc-9e38-c0800d2d2157",
   "metadata": {},
   "outputs": [],
   "source": [
    "!copy _env .env\n",
    "!notepad.exe .env"
   ]
  },
  {
   "cell_type": "markdown",
   "id": "8b7dcbe3-c49b-4195-8835-0b808842c146",
   "metadata": {},
   "source": [
    "参考) 現在使用しているのが Windows ではない場合、またはメモ帳が起動しない場合は、.env ファイルをテキストエディターで開いてください。  \n",
    "なお .env ファイルがおいてある現在のフォルダーは以下で分かります。"
   ]
  },
  {
   "cell_type": "code",
   "execution_count": null,
   "id": "1279ba62-79dd-401f-b329-a50b94343909",
   "metadata": {},
   "outputs": [],
   "source": [
    "!cd"
   ]
  }
 ],
 "metadata": {
  "kernelspec": {
   "display_name": "Python 3 (ipykernel)",
   "language": "python",
   "name": "python3"
  },
  "language_info": {
   "codemirror_mode": {
    "name": "ipython",
    "version": 3
   },
   "file_extension": ".py",
   "mimetype": "text/x-python",
   "name": "python",
   "nbconvert_exporter": "python",
   "pygments_lexer": "ipython3",
   "version": "3.8.12"
  }
 },
 "nbformat": 4,
 "nbformat_minor": 5
}
